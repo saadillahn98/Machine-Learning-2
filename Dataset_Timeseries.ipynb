{
  "nbformat": 4,
  "nbformat_minor": 0,
  "metadata": {
    "colab": {
      "name": "Dataset Timeseries",
      "provenance": [],
      "collapsed_sections": []
    },
    "kernelspec": {
      "name": "python3",
      "display_name": "Python 3"
    },
    "language_info": {
      "name": "python"
    }
  },
  "cells": [
    {
      "cell_type": "markdown",
      "metadata": {
        "id": "MmTKwniuPi9Q"
      },
      "source": [
        "**TIME SERIES PROJECT**<br>\n",
        "Dibuat oleh : Saadillah Noer<br>\n",
        "Email : saadillahnoer@gmail.com"
      ]
    },
    {
      "cell_type": "markdown",
      "metadata": {
        "id": "a523V8ScPyBU"
      },
      "source": [
        "**Import Libraries**<br>"
      ]
    },
    {
      "cell_type": "code",
      "metadata": {
        "id": "C1DncDbqPuHp"
      },
      "source": [
        "import numpy as np\n",
        "import pandas as pd\n",
        "from keras.layers import Dense, LSTM\n",
        "import matplotlib.pyplot as plt\n",
        "import tensorflow as tf"
      ],
      "execution_count": 1,
      "outputs": []
    },
    {
      "cell_type": "markdown",
      "metadata": {
        "id": "6O6cqDODQgsO"
      },
      "source": [
        "**Read Data**<br>"
      ]
    },
    {
      "cell_type": "code",
      "metadata": {
        "colab": {
          "base_uri": "https://localhost:8080/",
          "height": 205
        },
        "id": "7ONvIbXUQjkb",
        "outputId": "bb34e761-47c9-45ed-9cf9-ab05ede6fb32"
      },
      "source": [
        "data_train = pd.read_csv('DJIA 30 Stock.csv')\n",
        "data_train.head()"
      ],
      "execution_count": 2,
      "outputs": [
        {
          "output_type": "execute_result",
          "data": {
            "text/html": [
              "<div>\n",
              "<style scoped>\n",
              "    .dataframe tbody tr th:only-of-type {\n",
              "        vertical-align: middle;\n",
              "    }\n",
              "\n",
              "    .dataframe tbody tr th {\n",
              "        vertical-align: top;\n",
              "    }\n",
              "\n",
              "    .dataframe thead th {\n",
              "        text-align: right;\n",
              "    }\n",
              "</style>\n",
              "<table border=\"1\" class=\"dataframe\">\n",
              "  <thead>\n",
              "    <tr style=\"text-align: right;\">\n",
              "      <th></th>\n",
              "      <th>Date</th>\n",
              "      <th>Open</th>\n",
              "      <th>High</th>\n",
              "      <th>Low</th>\n",
              "      <th>Close</th>\n",
              "      <th>Volume</th>\n",
              "      <th>Name</th>\n",
              "    </tr>\n",
              "  </thead>\n",
              "  <tbody>\n",
              "    <tr>\n",
              "      <th>0</th>\n",
              "      <td>2017-01-03</td>\n",
              "      <td>178.83</td>\n",
              "      <td>180.00</td>\n",
              "      <td>177.22</td>\n",
              "      <td>178.05</td>\n",
              "      <td>2510055</td>\n",
              "      <td>MMM</td>\n",
              "    </tr>\n",
              "    <tr>\n",
              "      <th>1</th>\n",
              "      <td>2017-01-04</td>\n",
              "      <td>178.03</td>\n",
              "      <td>178.90</td>\n",
              "      <td>177.61</td>\n",
              "      <td>178.32</td>\n",
              "      <td>1541985</td>\n",
              "      <td>MMM</td>\n",
              "    </tr>\n",
              "    <tr>\n",
              "      <th>2</th>\n",
              "      <td>2017-01-05</td>\n",
              "      <td>178.26</td>\n",
              "      <td>179.14</td>\n",
              "      <td>176.89</td>\n",
              "      <td>177.71</td>\n",
              "      <td>1447848</td>\n",
              "      <td>MMM</td>\n",
              "    </tr>\n",
              "    <tr>\n",
              "      <th>3</th>\n",
              "      <td>2017-01-06</td>\n",
              "      <td>177.29</td>\n",
              "      <td>178.60</td>\n",
              "      <td>175.80</td>\n",
              "      <td>178.23</td>\n",
              "      <td>1625049</td>\n",
              "      <td>MMM</td>\n",
              "    </tr>\n",
              "    <tr>\n",
              "      <th>4</th>\n",
              "      <td>2017-01-09</td>\n",
              "      <td>178.37</td>\n",
              "      <td>178.38</td>\n",
              "      <td>177.20</td>\n",
              "      <td>177.27</td>\n",
              "      <td>1622625</td>\n",
              "      <td>MMM</td>\n",
              "    </tr>\n",
              "  </tbody>\n",
              "</table>\n",
              "</div>"
            ],
            "text/plain": [
              "         Date    Open    High     Low   Close   Volume Name\n",
              "0  2017-01-03  178.83  180.00  177.22  178.05  2510055  MMM\n",
              "1  2017-01-04  178.03  178.90  177.61  178.32  1541985  MMM\n",
              "2  2017-01-05  178.26  179.14  176.89  177.71  1447848  MMM\n",
              "3  2017-01-06  177.29  178.60  175.80  178.23  1625049  MMM\n",
              "4  2017-01-09  178.37  178.38  177.20  177.27  1622625  MMM"
            ]
          },
          "metadata": {
            "tags": []
          },
          "execution_count": 2
        }
      ]
    },
    {
      "cell_type": "code",
      "metadata": {
        "colab": {
          "base_uri": "https://localhost:8080/"
        },
        "id": "xVOD6CPEQuXw",
        "outputId": "a2fffa9d-f14e-4a47-d295-f77232ffe1b3"
      },
      "source": [
        "data_train.info()"
      ],
      "execution_count": 3,
      "outputs": [
        {
          "output_type": "stream",
          "text": [
            "<class 'pandas.core.frame.DataFrame'>\n",
            "RangeIndex: 7781 entries, 0 to 7780\n",
            "Data columns (total 7 columns):\n",
            " #   Column  Non-Null Count  Dtype  \n",
            "---  ------  --------------  -----  \n",
            " 0   Date    7781 non-null   object \n",
            " 1   Open    7757 non-null   float64\n",
            " 2   High    7772 non-null   float64\n",
            " 3   Low     7762 non-null   float64\n",
            " 4   Close   7781 non-null   float64\n",
            " 5   Volume  7781 non-null   int64  \n",
            " 6   Name    7781 non-null   object \n",
            "dtypes: float64(4), int64(1), object(2)\n",
            "memory usage: 425.6+ KB\n"
          ],
          "name": "stdout"
        }
      ]
    },
    {
      "cell_type": "markdown",
      "metadata": {
        "id": "I4A6CI2ARRWY"
      },
      "source": [
        "**Mengecek Nilai Hilang dari Isnull**<br>"
      ]
    },
    {
      "cell_type": "code",
      "metadata": {
        "colab": {
          "base_uri": "https://localhost:8080/"
        },
        "id": "X4g76LrSRYKn",
        "outputId": "6289fc00-ff6b-4e09-e6a3-c71d2f216520"
      },
      "source": [
        "data_train.isnull().sum()"
      ],
      "execution_count": 4,
      "outputs": [
        {
          "output_type": "execute_result",
          "data": {
            "text/plain": [
              "Date       0\n",
              "Open      24\n",
              "High       9\n",
              "Low       19\n",
              "Close      0\n",
              "Volume     0\n",
              "Name       0\n",
              "dtype: int64"
            ]
          },
          "metadata": {
            "tags": []
          },
          "execution_count": 4
        }
      ]
    },
    {
      "cell_type": "code",
      "metadata": {
        "colab": {
          "base_uri": "https://localhost:8080/",
          "height": 305
        },
        "id": "IOfy244ZRkjO",
        "outputId": "09f2a5bd-6c10-4aee-a068-e294515952ec"
      },
      "source": [
        "date = data_train['Date'].values\n",
        "Close = data_train['Close'].values\n",
        "\n",
        "\n",
        "plt.figure(figsize=(15,5))\n",
        "plt.plot(date, Close)\n",
        "plt.title('Temperature average',\n",
        "          fontsize=20);"
      ],
      "execution_count": 10,
      "outputs": [
        {
          "output_type": "display_data",
          "data": {
            "image/png": "[encoded data removed]",
            "text/plain": [
              "<Figure size 1080x360 with 1 Axes>"
            ]
          },
          "metadata": {
            "tags": [],
            "needs_background": "light"
          }
        }
      ]
    },
    {
      "cell_type": "code",
      "metadata": {
        "id": "eVJbmLxtTsVq"
      },
      "source": [
        "data_train['Close'].fillna(data_train['Close'].mean(), inplace=True)"
      ],
      "execution_count": 11,
      "outputs": []
    },
    {
      "cell_type": "markdown",
      "metadata": {
        "id": "FNakzRZwUASc"
      },
      "source": [
        "**Split Data**<br>"
      ]
    },
    {
      "cell_type": "code",
      "metadata": {
        "id": "AGUzzlVbUDOW"
      },
      "source": [
        "#Import split data\n",
        "from sklearn.model_selection import train_test_split"
      ],
      "execution_count": 8,
      "outputs": []
    },
    {
      "cell_type": "code",
      "metadata": {
        "colab": {
          "base_uri": "https://localhost:8080/"
        },
        "id": "d9VzFfFyUIfR",
        "outputId": "def8df1a-79d3-42c5-f87f-cadec2f95ad7"
      },
      "source": [
        "train, test = train_test_split(data_train.Close, test_size=0.2, shuffle=False)\n",
        "\n",
        "print(len(train))\n",
        "print(len(test))"
      ],
      "execution_count": 12,
      "outputs": [
        {
          "output_type": "stream",
          "text": [
            "6224\n",
            "1557\n"
          ],
          "name": "stdout"
        }
      ]
    },
    {
      "cell_type": "code",
      "metadata": {
        "colab": {
          "base_uri": "https://localhost:8080/"
        },
        "id": "v_B_4_kwWVBS",
        "outputId": "053e75ba-4c33-4461-df35-ca0df89233da"
      },
      "source": [
        "#Validation Set \n",
        "dates = data_train['Date'].values\n",
        "values  = data_train['Close'].values\n",
        "\n",
        "x_train, x_test, y_train, y_test = train_test_split(values, dates, test_size = 0.2, shuffle=False)\n",
        "print()"
      ],
      "execution_count": 15,
      "outputs": [
        {
          "output_type": "stream",
          "text": [
            "\n"
          ],
          "name": "stdout"
        }
      ]
    },
    {
      "cell_type": "markdown",
      "metadata": {
        "id": "-ecxfNb2W4Bv"
      },
      "source": [
        "**Windowed Dataset**<br>"
      ]
    },
    {
      "cell_type": "code",
      "metadata": {
        "id": "_Tt9S2LMW9kt"
      },
      "source": [
        "def windowed_dataset(series, window_size, batch_size, shuffle_buffer):\n",
        "  series = tf.expand_dims(series, axis=1)\n",
        "  ds = tf.data.Dataset.from_tensor_slices(series)\n",
        "  ds = ds.window(window_size + 1, shift=1, drop_remainder=True)\n",
        "  ds = ds.flat_map(lambda w:w.batch(window_size + 1))\n",
        "  ds = ds.shuffle(shuffle_buffer)\n",
        "  ds = ds.map(lambda w: (w[:-1], w[-1:]))\n",
        "  return ds.batch(batch_size).prefetch(1)"
      ],
      "execution_count": 29,
      "outputs": []
    },
    {
      "cell_type": "markdown",
      "metadata": {
        "id": "jIt-3N8IZ25u"
      },
      "source": [
        "**Model LSTM & Sequential**<br>"
      ]
    },
    {
      "cell_type": "code",
      "metadata": {
        "id": "6JPpHgLUaU1b"
      },
      "source": [
        "train_set = windowed_dataset(x_train, window_size=60, batch_size=100, shuffle_buffer=1000)\n",
        "model = tf.keras.models.Sequential([\n",
        "                                    tf.keras.layers.LSTM(60, return_sequences=True),\n",
        "                                    tf.keras.layers.LSTM(60),\n",
        "                                    tf.keras.layers.Dense(30, activation=\"relu\"),\n",
        "                                    tf.keras.layers.Dense(10, activation=\"relu\"),\n",
        "                                    tf.keras.layers.Dense(1),\n",
        "])"
      ],
      "execution_count": 30,
      "outputs": []
    },
    {
      "cell_type": "markdown",
      "metadata": {
        "id": "KW58deGRgni2"
      },
      "source": [
        "**Model Learning Rate & Optimizer**<br>"
      ]
    },
    {
      "cell_type": "code",
      "metadata": {
        "colab": {
          "base_uri": "https://localhost:8080/"
        },
        "id": "0_HzEiqNgnEE",
        "outputId": "6f78875b-12a0-4027-c85b-1ee60b0de80f"
      },
      "source": [
        "optimizer = tf.keras.optimizers.SGD(learning_rate=1.0000e-04, momentum=0.9)\n",
        "model.compile(loss=tf.keras.losses.Huber(),\n",
        "              optimizer=optimizer,\n",
        "              metrics=[\"mae\"])\n",
        "history = model.fit(train_set,epochs=10)"
      ],
      "execution_count": 33,
      "outputs": [
        {
          "output_type": "stream",
          "text": [
            "Epoch 1/10\n",
            "62/62 [==============================] - 10s 108ms/step - loss: 46.8481 - mae: 47.3463\n",
            "Epoch 2/10\n",
            "62/62 [==============================] - 7s 105ms/step - loss: 46.9489 - mae: 47.4466\n",
            "Epoch 3/10\n",
            "62/62 [==============================] - 7s 104ms/step - loss: 46.9633 - mae: 47.4616\n",
            "Epoch 4/10\n",
            "62/62 [==============================] - 7s 105ms/step - loss: 46.8768 - mae: 47.3746\n",
            "Epoch 5/10\n",
            "62/62 [==============================] - 7s 107ms/step - loss: 46.9818 - mae: 47.4797\n",
            "Epoch 6/10\n",
            "62/62 [==============================] - 7s 106ms/step - loss: 46.7810 - mae: 47.2786\n",
            "Epoch 7/10\n",
            "62/62 [==============================] - 7s 106ms/step - loss: 46.8941 - mae: 47.3916\n",
            "Epoch 8/10\n",
            "62/62 [==============================] - 7s 105ms/step - loss: 46.8609 - mae: 47.3588\n",
            "Epoch 9/10\n",
            "62/62 [==============================] - 7s 105ms/step - loss: 46.8462 - mae: 47.3439\n",
            "Epoch 10/10\n",
            "62/62 [==============================] - 7s 107ms/step - loss: 46.8251 - mae: 47.3232\n"
          ],
          "name": "stdout"
        }
      ]
    },
    {
      "cell_type": "markdown",
      "metadata": {
        "id": "rMFnpeyelYPR"
      },
      "source": [
        "**Compare MAE and 10% Scale Data**<br>"
      ]
    },
    {
      "cell_type": "code",
      "metadata": {
        "colab": {
          "base_uri": "https://localhost:8080/"
        },
        "id": "ycMGVUqRliYK",
        "outputId": "8a3cc610-5f65-4aab-b7b2-2cdc30323ddc"
      },
      "source": [
        "minMAE = (data_train['Close'].max() - data_train['Close'].min()) * (10/100)\n",
        "minMAE"
      ],
      "execution_count": 40,
      "outputs": [
        {
          "output_type": "execute_result",
          "data": {
            "text/plain": [
              "117.84700000000001"
            ]
          },
          "metadata": {
            "tags": []
          },
          "execution_count": 40
        }
      ]
    }
  ]
}